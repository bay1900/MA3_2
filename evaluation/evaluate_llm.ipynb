{
 "cells": [
  {
   "cell_type": "code",
   "execution_count": null,
   "id": "b1e7e933",
   "metadata": {},
   "outputs": [],
   "source": [
    "%pip install matplotlib\n",
    "%pip install seaborn"
   ]
  },
  {
   "cell_type": "code",
   "execution_count": null,
   "id": "50d58bb8",
   "metadata": {},
   "outputs": [],
   "source": [
    "%pip install sentence_transformers"
   ]
  },
  {
   "cell_type": "code",
   "execution_count": 5,
   "id": "5f190f1c",
   "metadata": {},
   "outputs": [],
   "source": [
    "import aiohttp\n",
    "import asyncio\n",
    "\n",
    "\n",
    "async def fetch_api( age, gene_fault, llm, category, patient_question):\n",
    "    async with aiohttp.ClientSession() as session:\n",
    "        link = \"http://127.0.0.1:8000/chat\"\n",
    "        payload = {\n",
    "                \"age\" : age,\n",
    "                \"gene_fault\": gene_fault,\n",
    "                \"llm\": llm,\n",
    "                \"category\": category,\n",
    "                \"patient_question\": patient_question\n",
    "            }\n",
    "        resp = await session.post( link, json=payload  )\n",
    "        \n",
    "        try:\n",
    "            data = await resp.json()\n",
    "            # print(\"Response JSON:\", data)\n",
    "            return data\n",
    "        except aiohttp.ContentTypeError:\n",
    "            text = await resp.text()\n",
    "            # print(\"Response Text:\", text)\n",
    "            return text\n",
    "        "
   ]
  },
  {
   "cell_type": "code",
   "execution_count": 6,
   "id": "543ec73d",
   "metadata": {},
   "outputs": [],
   "source": [
    "mistral = await fetch_api( 50, \"BRCA1\", \"mistral\", \"breast_cancer\", \"What is the best treatment for me?\" )\n",
    "deepseek = await fetch_api( 50, \"BRCA1\", \"deepseek\", \"breast_cancer\", \"What is the best treatment for me?\" )\n",
    "openai = await fetch_api( 50, \"BRCA1\", \"openai\", \"breast_cancer\", \"What is the best treatment for me?\" )\n"
   ]
  },
  {
   "cell_type": "code",
   "execution_count": 33,
   "id": "aa92cd74",
   "metadata": {},
   "outputs": [],
   "source": [
    "import json\n",
    "with open(\"mistral_response.json\", \"w\", encoding=\"utf-8\") as f:\n",
    "    json.dump(mistral, f, indent=2, ensure_ascii=False)\n",
    "    \n",
    "with open(\"deepseek_response.json\", \"w\", encoding=\"utf-8\") as f:\n",
    "    json.dump(deepseek, f, indent=2, ensure_ascii=False)\n",
    "    \n",
    "with open(\"openai_response.json\", \"w\", encoding=\"utf-8\") as f:\n",
    "    json.dump(openai, f, indent=2, ensure_ascii=False)"
   ]
  },
  {
   "cell_type": "code",
   "execution_count": 28,
   "id": "da641cd6",
   "metadata": {},
   "outputs": [],
   "source": [
    "def llm_response( path ):\n",
    "    with open(path, \"r\", encoding=\"utf-8\") as f:\n",
    "        data = json.load(f)\n",
    "    return data"
   ]
  },
  {
   "cell_type": "code",
   "execution_count": 35,
   "id": "5215ba80",
   "metadata": {},
   "outputs": [],
   "source": [
    "mistra_path = \"mistral_response.json\"\n",
    "mistra_res_json = llm_response(mistra_path)\n",
    "\n",
    "deepseek_path = \"deepseek_response.json\"\n",
    "deepseek_res_json = llm_response(deepseek_path)\n",
    "\n",
    "opeai_path = \"openai_response.json\"\n",
    "openai_res_json = llm_response(opeai_path)\n",
    "            \n"
   ]
  },
  {
   "cell_type": "code",
   "execution_count": 37,
   "id": "9510e966",
   "metadata": {},
   "outputs": [
    {
     "data": {
      "text/plain": [
       "{'output': 'For someone who is 30 years old and has a BRCA2 gene fault, the risk of developing breast cancer between ages 25 and 30 is approximately 1-2%. The risk of ovarian cancer by this age is generally low but tends to increase after age 40. Other cancers associated with BRCA2 mutations, such as male breast cancer, prostate cancer, and pancreatic cancer, typically have risks that become more relevant at older ages beyond 30.  \\n\\nWhile the risk of breast cancer at your current age is relatively low, it is not zero, so regular surveillance and discussions about risk management with healthcare professionals or a genetic counselor are recommended. This can help ensure early detection and preventive measures if necessary.  \\n\\nIf you have further concerns or want tailored advice, seeking guidance from a genetic counselor or specialist is strongly advised.  \\n\\nHeading: Resources  \\n- Detailed, age-specific risk data and management guidelines are often provided by genetic counseling services and oncology specialists.',\n",
       " 'explanation': 'No explanation found',\n",
       " 'intermediate_steps': 'No intermediate steps found',\n",
       " 'question': ' I am at age 22 and I have BRCA2 gene fault. My question is about Worry/fear about developing cancer. I am 30 years old and have a BRCA2 gene fault. What are the risks of developing cancer?',\n",
       " 'elapsed_time': '14.04'}"
      ]
     },
     "execution_count": 37,
     "metadata": {},
     "output_type": "execute_result"
    }
   ],
   "source": [
    "openai_res_json"
   ]
  },
  {
   "cell_type": "code",
   "execution_count": 38,
   "id": "633473b0",
   "metadata": {},
   "outputs": [
    {
     "data": {
      "image/png": "[encoded data removed]",
      "text/plain": [
       "<Figure size 800x500 with 1 Axes>"
      ]
     },
     "metadata": {},
     "output_type": "display_data"
    }
   ],
   "source": [
    "from sentence_transformers import SentenceTransformer, util\n",
    "import matplotlib.pyplot as plt\n",
    "\n",
    "# Load a BERT-based model\n",
    "model = SentenceTransformer('all-MiniLM-L6-v2')  # Lightweight, fast BERT variant\n",
    "\n",
    "# Reference answer and LLM outputs\n",
    "reference_text = mistra_res_json[\"output\"]\n",
    "llm_outputs = {\n",
    "    \"mistral\":  mistra_res_json[\"output\"],\n",
    "    \"deepseek\": deepseek_res_json[\"output\"],\n",
    "    \"openai\":   openai_res_json[\"output\"]\n",
    "}\n",
    "\n",
    "# Create a list of texts: [reference, llm_1, llm_2, ...]\n",
    "texts = [reference_text] + list(llm_outputs.values())\n",
    "\n",
    "# Get BERT embeddings\n",
    "embeddings = model.encode(texts, convert_to_tensor=True)\n",
    "\n",
    "# Compute cosine similarities between reference and each LLM output\n",
    "similarities = {\n",
    "    name: util.cos_sim(embeddings[0], embeddings[i + 1]).item()\n",
    "    for i, name in enumerate(llm_outputs)\n",
    "}\n",
    "\n",
    "# Plotting\n",
    "plt.figure(figsize=(8, 5))\n",
    "bars = plt.bar(similarities.keys(), similarities.values(), color=['skyblue', 'salmon', 'lightgreen'])\n",
    "plt.ylim(0, 1)\n",
    "plt.ylabel(\"Semantic Similarity\")\n",
    "plt.title(\"Semantic Similarity of LLM Outputs Compared to Reference\")\n",
    "\n",
    "# Annotate bars with values\n",
    "for bar in bars:\n",
    "    score = bar.get_height()\n",
    "    plt.text(bar.get_x() + bar.get_width() / 2, score + 0.02, f\"{score:.2f}\", ha='center', va='bottom')\n",
    "\n",
    "plt.tight_layout()\n",
    "plt.show()\n"
   ]
  }
 ],
 "metadata": {
  "kernelspec": {
   "display_name": "venv",
   "language": "python",
   "name": "python3"
  },
  "language_info": {
   "codemirror_mode": {
    "name": "ipython",
    "version": 3
   },
   "file_extension": ".py",
   "mimetype": "text/x-python",
   "name": "python",
   "nbconvert_exporter": "python",
   "pygments_lexer": "ipython3",
   "version": "3.11.12"
  }
 },
 "nbformat": 4,
 "nbformat_minor": 5
}
